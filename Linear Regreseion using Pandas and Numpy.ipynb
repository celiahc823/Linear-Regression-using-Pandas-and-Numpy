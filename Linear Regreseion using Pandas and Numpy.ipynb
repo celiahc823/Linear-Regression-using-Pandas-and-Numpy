{
 "cells": [
  {
   "cell_type": "markdown",
   "metadata": {},
   "source": [
    "#### Linear Regression Using Python and Numpy"
   ]
  },
  {
   "cell_type": "markdown",
   "metadata": {},
   "source": [
    "### Steps:\n",
    "1. Initialise the parameters\n",
    "2. Repeat until convergence or given number of iterations<br>\n",
    "    i.Calculate Predicted values for dependent variable as per current parameters (y_hat)<br>\n",
    "    ii.Calculate loss (cost function)<br>\n",
    "    iii.Calculate Gradients (derivatives of cost function wrt parameters)<br>\n",
    "    iV.Update the parameters<br>"
   ]
  },
  {
   "cell_type": "code",
   "execution_count": 2,
   "metadata": {},
   "outputs": [],
   "source": [
    "import numpy as np\n",
    "import pandas as pd\n",
    "import matplotlib.pyplot as plt  \n",
    "import seaborn as Snapshot\n",
    "%matplotlib inline   "
   ]
  },
  {
   "cell_type": "markdown",
   "metadata": {},
   "source": [
    "#### 1. Initialising the parameters"
   ]
  },
  {
   "cell_type": "code",
   "execution_count": 3,
   "metadata": {},
   "outputs": [],
   "source": [
    "def initialize(dim):\n",
    "    w = np.zeros((dim,1))\n",
    "    assert(w.shape == (dim,1))\n",
    "    return w"
   ]
  },
  {
   "cell_type": "code",
   "execution_count": 4,
   "metadata": {},
   "outputs": [
    {
     "data": {
      "text/plain": [
       "array([[0.],\n",
       "       [0.]])"
      ]
     },
     "execution_count": 4,
     "metadata": {},
     "output_type": "execute_result"
    }
   ],
   "source": [
    "initialize(2)"
   ]
  },
  {
   "cell_type": "markdown",
   "metadata": {},
   "source": [
    "#### 2. Calculating Y_hat and Cost Function"
   ]
  },
  {
   "cell_type": "code",
   "execution_count": 5,
   "metadata": {},
   "outputs": [],
   "source": [
    "def calc_yhat(w,X):\n",
    "    y_hat = np.dot(w.T,X)\n",
    "    return y_hat"
   ]
  },
  {
   "cell_type": "code",
   "execution_count": 6,
   "metadata": {},
   "outputs": [],
   "source": [
    "def calc_cost(w,y_hat,Y):\n",
    "    m = Y.shape[1]\n",
    "    cost = 1/m * np.sum(np.power(y_hat-Y,2))\n",
    "    return cost"
   ]
  },
  {
   "cell_type": "markdown",
   "metadata": {},
   "source": [
    "#### 3. Calculating gradients and Optimization"
   ]
  },
  {
   "cell_type": "code",
   "execution_count": 7,
   "metadata": {},
   "outputs": [],
   "source": [
    "def calculate_gradient(w,X,Y):\n",
    "    m = X.shape[1]\n",
    "    y_hat = calc_yhat(w,X)\n",
    "    grad = 2 / m * np.dot(X, (y_hat-Y).T)\n",
    "    return grad"
   ]
  },
  {
   "cell_type": "code",
   "execution_count": 8,
   "metadata": {},
   "outputs": [],
   "source": [
    "def gradient_descent(X,Y,learning_rate, epochs, details):\n",
    "    costs = []\n",
    "    w = initialize(X.shape[0])\n",
    "    for i in range(epochs):\n",
    "        y_hat = calc_yhat(w,X)\n",
    "        cost = calc_cost(w,y_hat,Y)\n",
    "        grad = calculate_gradient(w,X,Y)\n",
    "        w = w - learning_rate * grad\n",
    "        if i % details == 0:\n",
    "            costs.append(cost)\n",
    "            print('Cost after {} iterations is {}'.format(i,cost))\n",
    "    return w, costs"
   ]
  },
  {
   "cell_type": "markdown",
   "metadata": {},
   "source": [
    "#### 4.Combining all functions to create a model"
   ]
  },
  {
   "cell_type": "code",
   "execution_count": 9,
   "metadata": {},
   "outputs": [],
   "source": [
    "def run_model(X,Y,learning_rate, epochs, details):\n",
    "    '''Input Shape:\n",
    "       X : (1,M)\n",
    "       Y : (1,M)\n",
    "       details : epoch interval after which cost is to be printed\n",
    "        '''\n",
    "    ones = np.ones((1,X.shape[1]))\n",
    "    X = np.append(ones,X,axis = 0)    # To match with both b0 and b1 in w (Y= b0 + b1X)\n",
    "    \n",
    "    w,costs = gradient_descent(X,Y,learning_rate, epochs, details)\n",
    "    d = {\n",
    "        'Intercept' : w[0,0],\n",
    "        'Slope'     : w[1,0],\n",
    "        'Costs'     : costs\n",
    "    }\n",
    "    return d"
   ]
  },
  {
   "cell_type": "code",
   "execution_count": 10,
   "metadata": {},
   "outputs": [
    {
     "data": {
      "text/plain": [
       "<matplotlib.collections.PathCollection at 0x16d24670280>"
      ]
     },
     "execution_count": 10,
     "metadata": {},
     "output_type": "execute_result"
    },
    {
     "data": {
      "image/png": "[encoded data removed]",
      "text/plain": [
       "<Figure size 432x288 with 1 Axes>"
      ]
     },
     "metadata": {
      "needs_background": "light"
     },
     "output_type": "display_data"
    }
   ],
   "source": [
    "X = np.random.rand(1,2000)\n",
    "Y = 5 * X + np.random.randn(1,2000)*0.1\n",
    "plt.scatter(X,Y)"
   ]
  },
  {
   "cell_type": "code",
   "execution_count": 11,
   "metadata": {},
   "outputs": [
    {
     "name": "stdout",
     "output_type": "stream",
     "text": [
      "Cost after 0 iterations is 8.784917366554708\n",
      "Cost after 100 iterations is 1.0230967212358621\n",
      "Cost after 200 iterations is 0.7556316166503676\n",
      "Cost after 300 iterations is 0.5817209941438239\n",
      "Cost after 400 iterations is 0.4485152738429605\n",
      "Cost after 500 iterations is 0.34635687106013885\n",
      "Cost after 600 iterations is 0.26800862379640367\n",
      "Cost after 700 iterations is 0.2079210726598292\n",
      "Cost after 800 iterations is 0.16183818083546705\n",
      "Cost after 900 iterations is 0.12649586984535716\n"
     ]
    }
   ],
   "source": [
    "result = run_model(X,Y,0.01,1000,100)"
   ]
  },
  {
   "cell_type": "code",
   "execution_count": 12,
   "metadata": {},
   "outputs": [
    {
     "data": {
      "text/plain": [
       "3.980106288728193"
      ]
     },
     "execution_count": 12,
     "metadata": {},
     "output_type": "execute_result"
    }
   ],
   "source": [
    "result['Slope']"
   ]
  },
  {
   "cell_type": "code",
   "execution_count": 13,
   "metadata": {},
   "outputs": [
    {
     "data": {
      "text/plain": [
       "[8.784917366554708,\n",
       " 1.0230967212358621,\n",
       " 0.7556316166503676,\n",
       " 0.5817209941438239,\n",
       " 0.4485152738429605,\n",
       " 0.34635687106013885,\n",
       " 0.26800862379640367,\n",
       " 0.2079210726598292,\n",
       " 0.16183818083546705,\n",
       " 0.12649586984535716]"
      ]
     },
     "execution_count": 13,
     "metadata": {},
     "output_type": "execute_result"
    }
   ],
   "source": [
    "result['Costs']"
   ]
  },
  {
   "cell_type": "code",
   "execution_count": 14,
   "metadata": {},
   "outputs": [
    {
     "data": {
      "text/plain": [
       "[<matplotlib.lines.Line2D at 0x16d24766d00>]"
      ]
     },
     "execution_count": 14,
     "metadata": {},
     "output_type": "execute_result"
    },
    {
     "data": {
      "image/png": "[encoded data removed]",
      "text/plain": [
       "<Figure size 432x288 with 1 Axes>"
      ]
     },
     "metadata": {
      "needs_background": "light"
     },
     "output_type": "display_data"
    }
   ],
   "source": [
    "plt.plot(result['Costs'])"
   ]
  },
  {
   "cell_type": "code",
   "execution_count": 15,
   "metadata": {},
   "outputs": [
    {
     "data": {
      "text/html": [
       "<div>\n",
       "<style scoped>\n",
       "    .dataframe tbody tr th:only-of-type {\n",
       "        vertical-align: middle;\n",
       "    }\n",
       "\n",
       "    .dataframe tbody tr th {\n",
       "        vertical-align: top;\n",
       "    }\n",
       "\n",
       "    .dataframe thead th {\n",
       "        text-align: right;\n",
       "    }\n",
       "</style>\n",
       "<table border=\"1\" class=\"dataframe\">\n",
       "  <thead>\n",
       "    <tr style=\"text-align: right;\">\n",
       "      <th></th>\n",
       "      <th>YearsExperience</th>\n",
       "      <th>Salary</th>\n",
       "    </tr>\n",
       "  </thead>\n",
       "  <tbody>\n",
       "    <tr>\n",
       "      <th>0</th>\n",
       "      <td>1.1</td>\n",
       "      <td>39343</td>\n",
       "    </tr>\n",
       "    <tr>\n",
       "      <th>1</th>\n",
       "      <td>1.3</td>\n",
       "      <td>46205</td>\n",
       "    </tr>\n",
       "    <tr>\n",
       "      <th>2</th>\n",
       "      <td>1.5</td>\n",
       "      <td>37731</td>\n",
       "    </tr>\n",
       "    <tr>\n",
       "      <th>3</th>\n",
       "      <td>2.0</td>\n",
       "      <td>43525</td>\n",
       "    </tr>\n",
       "    <tr>\n",
       "      <th>4</th>\n",
       "      <td>2.2</td>\n",
       "      <td>39891</td>\n",
       "    </tr>\n",
       "  </tbody>\n",
       "</table>\n",
       "</div>"
      ],
      "text/plain": [
       "   YearsExperience  Salary\n",
       "0              1.1   39343\n",
       "1              1.3   46205\n",
       "2              1.5   37731\n",
       "3              2.0   43525\n",
       "4              2.2   39891"
      ]
     },
     "execution_count": 15,
     "metadata": {},
     "output_type": "execute_result"
    }
   ],
   "source": [
    "df = pd.read_csv('Salary_Data.csv')\n",
    "df.head()"
   ]
  },
  {
   "cell_type": "code",
   "execution_count": 16,
   "metadata": {},
   "outputs": [
    {
     "data": {
      "text/plain": [
       "<matplotlib.collections.PathCollection at 0x16d26c33b80>"
      ]
     },
     "execution_count": 16,
     "metadata": {},
     "output_type": "execute_result"
    },
    {
     "data": {
      "image/png": "[encoded data removed]",
      "text/plain": [
       "<Figure size 432x288 with 1 Axes>"
      ]
     },
     "metadata": {
      "needs_background": "light"
     },
     "output_type": "display_data"
    }
   ],
   "source": [
    "X = df[['YearsExperience']].values\n",
    "Y = df[['Salary']].values\n",
    "plt.scatter(X,Y)"
   ]
  },
  {
   "cell_type": "code",
   "execution_count": 17,
   "metadata": {},
   "outputs": [],
   "source": [
    "from sklearn.preprocessing import MinMaxScaler\n",
    "mmc = MinMaxScaler()\n",
    "X[:] = mmc.fit_transform(X[:])\n",
    "Y[:] = mmc.fit_transform(Y[:]) "
   ]
  },
  {
   "cell_type": "code",
   "execution_count": 18,
   "metadata": {},
   "outputs": [
    {
     "name": "stdout",
     "output_type": "stream",
     "text": [
      "Cost after 0 iterations is 1.0\n",
      "Cost after 2 iterations is 0.42326655769117116\n",
      "Cost after 4 iterations is 0.1791545788597337\n",
      "Cost after 6 iterations is 0.07583014188857094\n",
      "Cost after 8 iterations is 0.032096363126408435\n",
      "Cost after 10 iterations is 0.013585317134920803\n",
      "Cost after 12 iterations is 0.005750210418840804\n",
      "Cost after 14 iterations is 0.002433871769982647\n",
      "Cost after 16 iterations is 0.001030176525942283\n",
      "Cost after 18 iterations is 0.00043603927194983303\n"
     ]
    }
   ],
   "source": [
    "result = run_model(X,Y,0.01,20,2)"
   ]
  },
  {
   "cell_type": "code",
   "execution_count": 19,
   "metadata": {},
   "outputs": [
    {
     "data": {
      "text/plain": [
       "[<matplotlib.lines.Line2D at 0x16d270f46a0>]"
      ]
     },
     "execution_count": 19,
     "metadata": {},
     "output_type": "execute_result"
    },
    {
     "data": {
      "image/png": "[encoded data removed]",
      "text/plain": [
       "<Figure size 432x288 with 1 Axes>"
      ]
     },
     "metadata": {
      "needs_background": "light"
     },
     "output_type": "display_data"
    }
   ],
   "source": [
    "plt.plot(result['Costs'])"
   ]
  },
  {
   "cell_type": "code",
   "execution_count": 20,
   "metadata": {},
   "outputs": [
    {
     "data": {
      "text/plain": [
       "[1.0,\n",
       " 0.42326655769117116,\n",
       " 0.1791545788597337,\n",
       " 0.07583014188857094,\n",
       " 0.032096363126408435,\n",
       " 0.013585317134920803,\n",
       " 0.005750210418840804,\n",
       " 0.002433871769982647,\n",
       " 0.001030176525942283,\n",
       " 0.00043603927194983303]"
      ]
     },
     "execution_count": 20,
     "metadata": {},
     "output_type": "execute_result"
    }
   ],
   "source": [
    "result['Costs']"
   ]
  },
  {
   "cell_type": "code",
   "execution_count": 21,
   "metadata": {},
   "outputs": [
    {
     "name": "stdout",
     "output_type": "stream",
     "text": [
      "0.0\n"
     ]
    }
   ],
   "source": [
    "print(result['Intercept'])"
   ]
  }
 ],
 "metadata": {
  "interpreter": {
   "hash": "cb6bbd7367edc342baaacb096f42c8ae4c6c5c60100730d6778d531f77121479"
  },
  "kernelspec": {
   "display_name": "Python 3.9.10 64-bit (windows store)",
   "language": "python",
   "name": "python3"
  },
  "language_info": {
   "codemirror_mode": {
    "name": "ipython",
    "version": 3
   },
   "file_extension": ".py",
   "mimetype": "text/x-python",
   "name": "python",
   "nbconvert_exporter": "python",
   "pygments_lexer": "ipython3",
   "version": "3.9.10"
  },
  "orig_nbformat": 4
 },
 "nbformat": 4,
 "nbformat_minor": 2
}
